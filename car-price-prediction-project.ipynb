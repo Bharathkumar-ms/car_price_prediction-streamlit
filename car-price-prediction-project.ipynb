{
 "cells": [
  {
   "cell_type": "code",
   "execution_count": 1,
   "metadata": {
    "_cell_guid": "b1076dfc-b9ad-4769-8c92-a6c4dae69d19",
    "_uuid": "8f2839f25d086af736a60e9eeb907d3b93b6e0e5",
    "execution": {
     "iopub.execute_input": "2021-01-16T11:56:31.498423Z",
     "iopub.status.busy": "2021-01-16T11:56:31.497467Z",
     "iopub.status.idle": "2021-01-16T11:56:32.737991Z",
     "shell.execute_reply": "2021-01-16T11:56:32.737195Z"
    },
    "papermill": {
     "duration": 1.271317,
     "end_time": "2021-01-16T11:56:32.738145",
     "exception": false,
     "start_time": "2021-01-16T11:56:31.466828",
     "status": "completed"
    },
    "tags": []
   },
   "outputs": [],
   "source": [
    "import numpy as np # linear algebra\n",
    "import pandas as pd # data processing, CSV file I/O (e.g. pd.read_csv)\n",
    "import seaborn as sns\n",
    "import matplotlib.pyplot as plt\n",
    "%matplotlib inline\n",
    "import warnings\n",
    "warnings.filterwarnings('ignore')"
   ]
  },
  {
   "cell_type": "markdown",
   "metadata": {
    "papermill": {
     "duration": 0.025112,
     "end_time": "2021-01-16T11:56:32.789535",
     "exception": false,
     "start_time": "2021-01-16T11:56:32.764423",
     "status": "completed"
    },
    "tags": []
   },
   "source": [
    "## **1. Understanding the Dataset**"
   ]
  },
  {
   "cell_type": "code",
   "execution_count": 2,
   "metadata": {
    "_cell_guid": "79c7e3d0-c299-4dcb-8224-4455121ee9b0",
    "_uuid": "d629ff2d2480ee46fbb7e2d37f6b5fab8052498a",
    "execution": {
     "iopub.execute_input": "2021-01-16T11:56:32.848156Z",
     "iopub.status.busy": "2021-01-16T11:56:32.847401Z",
     "iopub.status.idle": "2021-01-16T11:56:32.867586Z",
     "shell.execute_reply": "2021-01-16T11:56:32.866995Z"
    },
    "papermill": {
     "duration": 0.053312,
     "end_time": "2021-01-16T11:56:32.867727",
     "exception": false,
     "start_time": "2021-01-16T11:56:32.814415",
     "status": "completed"
    },
    "tags": []
   },
   "outputs": [],
   "source": [
    "df=pd.read_csv(r'C:\\Users\\bhara\\Downloads\\assignment\\ass\\car data.csv')"
   ]
  },
  {
   "cell_type": "code",
   "execution_count": 3,
   "metadata": {
    "execution": {
     "iopub.execute_input": "2021-01-16T11:56:32.929406Z",
     "iopub.status.busy": "2021-01-16T11:56:32.928716Z",
     "iopub.status.idle": "2021-01-16T11:56:32.953287Z",
     "shell.execute_reply": "2021-01-16T11:56:32.953928Z"
    },
    "papermill": {
     "duration": 0.060797,
     "end_time": "2021-01-16T11:56:32.954076",
     "exception": false,
     "start_time": "2021-01-16T11:56:32.893279",
     "status": "completed"
    },
    "tags": []
   },
   "outputs": [
    {
     "data": {
      "text/html": [
       "<div>\n",
       "<style scoped>\n",
       "    .dataframe tbody tr th:only-of-type {\n",
       "        vertical-align: middle;\n",
       "    }\n",
       "\n",
       "    .dataframe tbody tr th {\n",
       "        vertical-align: top;\n",
       "    }\n",
       "\n",
       "    .dataframe thead th {\n",
       "        text-align: right;\n",
       "    }\n",
       "</style>\n",
       "<table border=\"1\" class=\"dataframe\">\n",
       "  <thead>\n",
       "    <tr style=\"text-align: right;\">\n",
       "      <th></th>\n",
       "      <th>Car_Name</th>\n",
       "      <th>Year</th>\n",
       "      <th>Selling_Price</th>\n",
       "      <th>Present_Price</th>\n",
       "      <th>Kms_Driven</th>\n",
       "      <th>Fuel_Type</th>\n",
       "      <th>Seller_Type</th>\n",
       "      <th>Transmission</th>\n",
       "      <th>Owner</th>\n",
       "    </tr>\n",
       "  </thead>\n",
       "  <tbody>\n",
       "    <tr>\n",
       "      <th>0</th>\n",
       "      <td>ritz</td>\n",
       "      <td>2014</td>\n",
       "      <td>3.35</td>\n",
       "      <td>5.59</td>\n",
       "      <td>27000</td>\n",
       "      <td>Petrol</td>\n",
       "      <td>Dealer</td>\n",
       "      <td>Manual</td>\n",
       "      <td>0</td>\n",
       "    </tr>\n",
       "    <tr>\n",
       "      <th>1</th>\n",
       "      <td>sx4</td>\n",
       "      <td>2013</td>\n",
       "      <td>4.75</td>\n",
       "      <td>9.54</td>\n",
       "      <td>43000</td>\n",
       "      <td>Diesel</td>\n",
       "      <td>Dealer</td>\n",
       "      <td>Manual</td>\n",
       "      <td>0</td>\n",
       "    </tr>\n",
       "    <tr>\n",
       "      <th>2</th>\n",
       "      <td>ciaz</td>\n",
       "      <td>2017</td>\n",
       "      <td>7.25</td>\n",
       "      <td>9.85</td>\n",
       "      <td>6900</td>\n",
       "      <td>Petrol</td>\n",
       "      <td>Dealer</td>\n",
       "      <td>Manual</td>\n",
       "      <td>0</td>\n",
       "    </tr>\n",
       "    <tr>\n",
       "      <th>3</th>\n",
       "      <td>wagon r</td>\n",
       "      <td>2011</td>\n",
       "      <td>2.85</td>\n",
       "      <td>4.15</td>\n",
       "      <td>5200</td>\n",
       "      <td>Petrol</td>\n",
       "      <td>Dealer</td>\n",
       "      <td>Manual</td>\n",
       "      <td>0</td>\n",
       "    </tr>\n",
       "    <tr>\n",
       "      <th>4</th>\n",
       "      <td>swift</td>\n",
       "      <td>2014</td>\n",
       "      <td>4.60</td>\n",
       "      <td>6.87</td>\n",
       "      <td>42450</td>\n",
       "      <td>Diesel</td>\n",
       "      <td>Dealer</td>\n",
       "      <td>Manual</td>\n",
       "      <td>0</td>\n",
       "    </tr>\n",
       "  </tbody>\n",
       "</table>\n",
       "</div>"
      ],
      "text/plain": [
       "  Car_Name  Year  Selling_Price  Present_Price  Kms_Driven Fuel_Type  \\\n",
       "0     ritz  2014           3.35           5.59       27000    Petrol   \n",
       "1      sx4  2013           4.75           9.54       43000    Diesel   \n",
       "2     ciaz  2017           7.25           9.85        6900    Petrol   \n",
       "3  wagon r  2011           2.85           4.15        5200    Petrol   \n",
       "4    swift  2014           4.60           6.87       42450    Diesel   \n",
       "\n",
       "  Seller_Type Transmission  Owner  \n",
       "0      Dealer       Manual      0  \n",
       "1      Dealer       Manual      0  \n",
       "2      Dealer       Manual      0  \n",
       "3      Dealer       Manual      0  \n",
       "4      Dealer       Manual      0  "
      ]
     },
     "execution_count": 3,
     "metadata": {},
     "output_type": "execute_result"
    }
   ],
   "source": [
    "df.head()"
   ]
  },
  {
   "cell_type": "code",
   "execution_count": 4,
   "metadata": {
    "execution": {
     "iopub.execute_input": "2021-01-16T11:56:33.015295Z",
     "iopub.status.busy": "2021-01-16T11:56:33.014603Z",
     "iopub.status.idle": "2021-01-16T11:56:33.037183Z",
     "shell.execute_reply": "2021-01-16T11:56:33.037708Z"
    },
    "papermill": {
     "duration": 0.057585,
     "end_time": "2021-01-16T11:56:33.037868",
     "exception": false,
     "start_time": "2021-01-16T11:56:32.980283",
     "status": "completed"
    },
    "tags": []
   },
   "outputs": [
    {
     "data": {
      "text/html": [
       "<div>\n",
       "<style scoped>\n",
       "    .dataframe tbody tr th:only-of-type {\n",
       "        vertical-align: middle;\n",
       "    }\n",
       "\n",
       "    .dataframe tbody tr th {\n",
       "        vertical-align: top;\n",
       "    }\n",
       "\n",
       "    .dataframe thead th {\n",
       "        text-align: right;\n",
       "    }\n",
       "</style>\n",
       "<table border=\"1\" class=\"dataframe\">\n",
       "  <thead>\n",
       "    <tr style=\"text-align: right;\">\n",
       "      <th></th>\n",
       "      <th>Year</th>\n",
       "      <th>Selling_Price</th>\n",
       "      <th>Present_Price</th>\n",
       "      <th>Kms_Driven</th>\n",
       "      <th>Owner</th>\n",
       "    </tr>\n",
       "  </thead>\n",
       "  <tbody>\n",
       "    <tr>\n",
       "      <th>count</th>\n",
       "      <td>301.000000</td>\n",
       "      <td>301.000000</td>\n",
       "      <td>301.000000</td>\n",
       "      <td>301.000000</td>\n",
       "      <td>301.000000</td>\n",
       "    </tr>\n",
       "    <tr>\n",
       "      <th>mean</th>\n",
       "      <td>2013.627907</td>\n",
       "      <td>4.661296</td>\n",
       "      <td>7.628472</td>\n",
       "      <td>36947.205980</td>\n",
       "      <td>0.043189</td>\n",
       "    </tr>\n",
       "    <tr>\n",
       "      <th>std</th>\n",
       "      <td>2.891554</td>\n",
       "      <td>5.082812</td>\n",
       "      <td>8.644115</td>\n",
       "      <td>38886.883882</td>\n",
       "      <td>0.247915</td>\n",
       "    </tr>\n",
       "    <tr>\n",
       "      <th>min</th>\n",
       "      <td>2003.000000</td>\n",
       "      <td>0.100000</td>\n",
       "      <td>0.320000</td>\n",
       "      <td>500.000000</td>\n",
       "      <td>0.000000</td>\n",
       "    </tr>\n",
       "    <tr>\n",
       "      <th>25%</th>\n",
       "      <td>2012.000000</td>\n",
       "      <td>0.900000</td>\n",
       "      <td>1.200000</td>\n",
       "      <td>15000.000000</td>\n",
       "      <td>0.000000</td>\n",
       "    </tr>\n",
       "    <tr>\n",
       "      <th>50%</th>\n",
       "      <td>2014.000000</td>\n",
       "      <td>3.600000</td>\n",
       "      <td>6.400000</td>\n",
       "      <td>32000.000000</td>\n",
       "      <td>0.000000</td>\n",
       "    </tr>\n",
       "    <tr>\n",
       "      <th>75%</th>\n",
       "      <td>2016.000000</td>\n",
       "      <td>6.000000</td>\n",
       "      <td>9.900000</td>\n",
       "      <td>48767.000000</td>\n",
       "      <td>0.000000</td>\n",
       "    </tr>\n",
       "    <tr>\n",
       "      <th>max</th>\n",
       "      <td>2018.000000</td>\n",
       "      <td>35.000000</td>\n",
       "      <td>92.600000</td>\n",
       "      <td>500000.000000</td>\n",
       "      <td>3.000000</td>\n",
       "    </tr>\n",
       "  </tbody>\n",
       "</table>\n",
       "</div>"
      ],
      "text/plain": [
       "              Year  Selling_Price  Present_Price     Kms_Driven       Owner\n",
       "count   301.000000     301.000000     301.000000     301.000000  301.000000\n",
       "mean   2013.627907       4.661296       7.628472   36947.205980    0.043189\n",
       "std       2.891554       5.082812       8.644115   38886.883882    0.247915\n",
       "min    2003.000000       0.100000       0.320000     500.000000    0.000000\n",
       "25%    2012.000000       0.900000       1.200000   15000.000000    0.000000\n",
       "50%    2014.000000       3.600000       6.400000   32000.000000    0.000000\n",
       "75%    2016.000000       6.000000       9.900000   48767.000000    0.000000\n",
       "max    2018.000000      35.000000      92.600000  500000.000000    3.000000"
      ]
     },
     "execution_count": 4,
     "metadata": {},
     "output_type": "execute_result"
    }
   ],
   "source": [
    "df.describe()"
   ]
  },
  {
   "cell_type": "code",
   "execution_count": 5,
   "metadata": {
    "execution": {
     "iopub.execute_input": "2021-01-16T11:56:33.093611Z",
     "iopub.status.busy": "2021-01-16T11:56:33.092906Z",
     "iopub.status.idle": "2021-01-16T11:56:33.100153Z",
     "shell.execute_reply": "2021-01-16T11:56:33.099435Z"
    },
    "papermill": {
     "duration": 0.036346,
     "end_time": "2021-01-16T11:56:33.100280",
     "exception": false,
     "start_time": "2021-01-16T11:56:33.063934",
     "status": "completed"
    },
    "tags": []
   },
   "outputs": [
    {
     "data": {
      "text/plain": [
       "Index(['Car_Name', 'Year', 'Selling_Price', 'Present_Price', 'Kms_Driven',\n",
       "       'Fuel_Type', 'Seller_Type', 'Transmission', 'Owner'],\n",
       "      dtype='object')"
      ]
     },
     "execution_count": 5,
     "metadata": {},
     "output_type": "execute_result"
    }
   ],
   "source": [
    "df.columns"
   ]
  },
  {
   "cell_type": "code",
   "execution_count": 6,
   "metadata": {
    "execution": {
     "iopub.execute_input": "2021-01-16T11:56:33.158309Z",
     "iopub.status.busy": "2021-01-16T11:56:33.157551Z",
     "iopub.status.idle": "2021-01-16T11:56:33.365668Z",
     "shell.execute_reply": "2021-01-16T11:56:33.366616Z"
    },
    "papermill": {
     "duration": 0.239498,
     "end_time": "2021-01-16T11:56:33.366831",
     "exception": false,
     "start_time": "2021-01-16T11:56:33.127333",
     "status": "completed"
    },
    "tags": []
   },
   "outputs": [
    {
     "data": {
      "text/plain": [
       "<AxesSubplot:>"
      ]
     },
     "execution_count": 6,
     "metadata": {},
     "output_type": "execute_result"
    },
    {
     "data": {
      "image/png": "[encoded data removed]",
      "text/plain": [
       "<Figure size 360x360 with 1 Axes>"
      ]
     },
     "metadata": {
      "needs_background": "light"
     },
     "output_type": "display_data"
    }
   ],
   "source": [
    "# Visualising Missing Values\n",
    "plt.figure(figsize=[5,5])\n",
    "sns.heatmap(df.isnull(),yticklabels=False,cbar=False,cmap='viridis')"
   ]
  },
  {
   "cell_type": "markdown",
   "metadata": {
    "papermill": {
     "duration": 0.03387,
     "end_time": "2021-01-16T11:56:33.434241",
     "exception": false,
     "start_time": "2021-01-16T11:56:33.400371",
     "status": "completed"
    },
    "tags": []
   },
   "source": [
    "So we have no missing values in any column"
   ]
  },
  {
   "cell_type": "code",
   "execution_count": 7,
   "metadata": {
    "execution": {
     "iopub.execute_input": "2021-01-16T11:56:33.496118Z",
     "iopub.status.busy": "2021-01-16T11:56:33.495016Z",
     "iopub.status.idle": "2021-01-16T11:56:33.526249Z",
     "shell.execute_reply": "2021-01-16T11:56:33.526924Z"
    },
    "papermill": {
     "duration": 0.064321,
     "end_time": "2021-01-16T11:56:33.527113",
     "exception": false,
     "start_time": "2021-01-16T11:56:33.462792",
     "status": "completed"
    },
    "tags": []
   },
   "outputs": [],
   "source": [
    "# creating a new column named 'Age' to know how old the car is\n",
    "df['Age']=2020-df['Year']"
   ]
  },
  {
   "cell_type": "code",
   "execution_count": 8,
   "metadata": {
    "execution": {
     "iopub.execute_input": "2021-01-16T11:56:33.590328Z",
     "iopub.status.busy": "2021-01-16T11:56:33.589263Z",
     "iopub.status.idle": "2021-01-16T11:56:33.598662Z",
     "shell.execute_reply": "2021-01-16T11:56:33.599191Z"
    },
    "papermill": {
     "duration": 0.042922,
     "end_time": "2021-01-16T11:56:33.599378",
     "exception": false,
     "start_time": "2021-01-16T11:56:33.556456",
     "status": "completed"
    },
    "tags": []
   },
   "outputs": [],
   "source": [
    "df.drop('Year',axis=1,inplace=True)"
   ]
  },
  {
   "cell_type": "markdown",
   "metadata": {
    "papermill": {
     "duration": 0.030812,
     "end_time": "2021-01-16T11:56:33.660001",
     "exception": false,
     "start_time": "2021-01-16T11:56:33.629189",
     "status": "completed"
    },
    "tags": []
   },
   "source": [
    "## **2. Exploratory Data Analysis**"
   ]
  },
  {
   "cell_type": "markdown",
   "metadata": {
    "papermill": {
     "duration": 0.029775,
     "end_time": "2021-01-16T11:56:33.736966",
     "exception": false,
     "start_time": "2021-01-16T11:56:33.707191",
     "status": "completed"
    },
    "tags": []
   },
   "source": [
    "### **Univariate Analysis**"
   ]
  },
  {
   "cell_type": "markdown",
   "metadata": {
    "papermill": {
     "duration": 0.029334,
     "end_time": "2021-01-16T11:56:33.795460",
     "exception": false,
     "start_time": "2021-01-16T11:56:33.766126",
     "status": "completed"
    },
    "tags": []
   },
   "source": [
    "#### Categorical Features Visualisation"
   ]
  },
  {
   "cell_type": "code",
   "execution_count": 9,
   "metadata": {
    "execution": {
     "iopub.execute_input": "2021-01-16T11:56:33.856945Z",
     "iopub.status.busy": "2021-01-16T11:56:33.855927Z",
     "iopub.status.idle": "2021-01-16T11:56:34.290205Z",
     "shell.execute_reply": "2021-01-16T11:56:34.290705Z"
    },
    "papermill": {
     "duration": 0.467186,
     "end_time": "2021-01-16T11:56:34.290912",
     "exception": false,
     "start_time": "2021-01-16T11:56:33.823726",
     "status": "completed"
    },
    "tags": []
   },
   "outputs": [
    {
     "data": {
      "image/png": "[encoded data removed]",
      "text/plain": [
       "<Figure size 720x288 with 2 Axes>"
      ]
     },
     "metadata": {
      "needs_background": "light"
     },
     "output_type": "display_data"
    },
    {
     "data": {
      "image/png": "[encoded data removed]",
      "text/plain": [
       "<Figure size 720x288 with 2 Axes>"
      ]
     },
     "metadata": {
      "needs_background": "light"
     },
     "output_type": "display_data"
    }
   ],
   "source": [
    "categ_cols=['Fuel_Type', 'Seller_Type', 'Transmission', 'Owner']\n",
    "i=0\n",
    "while i < 4:\n",
    "    fig = plt.figure(figsize=[10,4])\n",
    "    plt.subplot(1,2,1)\n",
    "    sns.countplot(x=categ_cols[i], data=df)\n",
    "    i += 1\n",
    "    plt.subplot(1,2,2)\n",
    "    sns.countplot(x=categ_cols[i], data=df)\n",
    "    i += 1\n",
    "    \n",
    "    plt.show()"
   ]
  },
  {
   "cell_type": "markdown",
   "metadata": {
    "papermill": {
     "duration": 0.029781,
     "end_time": "2021-01-16T11:56:34.351093",
     "exception": false,
     "start_time": "2021-01-16T11:56:34.321312",
     "status": "completed"
    },
    "tags": []
   },
   "source": [
    "#### Numerical features to visualise outliers"
   ]
  },
  {
   "cell_type": "code",
   "execution_count": 10,
   "metadata": {
    "execution": {
     "iopub.execute_input": "2021-01-16T11:56:34.414992Z",
     "iopub.status.busy": "2021-01-16T11:56:34.414018Z",
     "iopub.status.idle": "2021-01-16T11:56:34.883460Z",
     "shell.execute_reply": "2021-01-16T11:56:34.882748Z"
    },
    "papermill": {
     "duration": 0.50251,
     "end_time": "2021-01-16T11:56:34.883588",
     "exception": false,
     "start_time": "2021-01-16T11:56:34.381078",
     "status": "completed"
    },
    "tags": []
   },
   "outputs": [
    {
     "data": {
      "image/png": "[encoded data removed]",
      "text/plain": [
       "<Figure size 936x216 with 2 Axes>"
      ]
     },
     "metadata": {
      "needs_background": "light"
     },
     "output_type": "display_data"
    },
    {
     "data": {
      "image/png": "[encoded data removed]",
      "text/plain": [
       "<Figure size 936x216 with 2 Axes>"
      ]
     },
     "metadata": {
      "needs_background": "light"
     },
     "output_type": "display_data"
    }
   ],
   "source": [
    "num_cols=['Selling_Price', 'Present_Price', 'Kms_Driven','Age']\n",
    "i=0 \n",
    "while(i<4):\n",
    "    plt.figure(figsize=[13,3])\n",
    "    plt.subplot(1,2,1)\n",
    "    plt.boxplot(x=num_cols[i],data=df)\n",
    "    i+=1\n",
    "    plt.subplot(1,2,2)\n",
    "    plt.boxplot(x=num_cols[i],data=df)\n",
    "    i+=1\n",
    "    plt.show()"
   ]
  },
  {
   "cell_type": "markdown",
   "metadata": {
    "papermill": {
     "duration": 0.032833,
     "end_time": "2021-01-16T11:56:34.948367",
     "exception": false,
     "start_time": "2021-01-16T11:56:34.915534",
     "status": "completed"
    },
    "tags": []
   },
   "source": [
    "### **Bivariate Analysis**"
   ]
  },
  {
   "cell_type": "code",
   "execution_count": 11,
   "metadata": {
    "execution": {
     "iopub.execute_input": "2021-01-16T11:56:35.021666Z",
     "iopub.status.busy": "2021-01-16T11:56:35.020550Z",
     "iopub.status.idle": "2021-01-16T11:56:35.352328Z",
     "shell.execute_reply": "2021-01-16T11:56:35.352780Z"
    },
    "papermill": {
     "duration": 0.373143,
     "end_time": "2021-01-16T11:56:35.352958",
     "exception": false,
     "start_time": "2021-01-16T11:56:34.979815",
     "status": "completed"
    },
    "tags": []
   },
   "outputs": [
    {
     "data": {
      "text/plain": [
       "<AxesSubplot:>"
      ]
     },
     "execution_count": 11,
     "metadata": {},
     "output_type": "execute_result"
    },
    {
     "data": {
      "image/png": "[encoded data removed]",
      "text/plain": [
       "<Figure size 432x288 with 2 Axes>"
      ]
     },
     "metadata": {
      "needs_background": "light"
     },
     "output_type": "display_data"
    }
   ],
   "source": [
    "sns.heatmap(df.corr(),annot=True)"
   ]
  },
  {
   "cell_type": "markdown",
   "metadata": {
    "papermill": {
     "duration": 0.032877,
     "end_time": "2021-01-16T11:56:35.419162",
     "exception": false,
     "start_time": "2021-01-16T11:56:35.386285",
     "status": "completed"
    },
    "tags": []
   },
   "source": [
    "* Selling Price of a car is more correlated with Present Price\n",
    "* Selling Price is also correlated with the Age of car"
   ]
  },
  {
   "cell_type": "markdown",
   "metadata": {
    "papermill": {
     "duration": 0.032516,
     "end_time": "2021-01-16T11:56:35.484482",
     "exception": false,
     "start_time": "2021-01-16T11:56:35.451966",
     "status": "completed"
    },
    "tags": []
   },
   "source": [
    "## **3. Data Preparation**"
   ]
  },
  {
   "cell_type": "markdown",
   "metadata": {
    "papermill": {
     "duration": 0.032594,
     "end_time": "2021-01-16T11:56:35.549999",
     "exception": false,
     "start_time": "2021-01-16T11:56:35.517405",
     "status": "completed"
    },
    "tags": []
   },
   "source": [
    "### **One-Hot Encoding for categorical features**"
   ]
  },
  {
   "cell_type": "code",
   "execution_count": 12,
   "metadata": {
    "execution": {
     "iopub.execute_input": "2021-01-16T11:56:35.619933Z",
     "iopub.status.busy": "2021-01-16T11:56:35.618911Z",
     "iopub.status.idle": "2021-01-16T11:56:35.624403Z",
     "shell.execute_reply": "2021-01-16T11:56:35.624847Z"
    },
    "papermill": {
     "duration": 0.041918,
     "end_time": "2021-01-16T11:56:35.625017",
     "exception": false,
     "start_time": "2021-01-16T11:56:35.583099",
     "status": "completed"
    },
    "tags": []
   },
   "outputs": [],
   "source": [
    "# dropping CarName as it has no effect in our model to predict the price\n",
    "df.drop('Car_Name',axis=1,inplace=True)"
   ]
  },
  {
   "cell_type": "code",
   "execution_count": 13,
   "metadata": {
    "execution": {
     "iopub.execute_input": "2021-01-16T11:56:35.703367Z",
     "iopub.status.busy": "2021-01-16T11:56:35.700511Z",
     "iopub.status.idle": "2021-01-16T11:56:35.715246Z",
     "shell.execute_reply": "2021-01-16T11:56:35.715763Z"
    },
    "papermill": {
     "duration": 0.057257,
     "end_time": "2021-01-16T11:56:35.715923",
     "exception": false,
     "start_time": "2021-01-16T11:56:35.658666",
     "status": "completed"
    },
    "tags": []
   },
   "outputs": [],
   "source": [
    "# creating dummy variables and dropping first to avoid dummy variable trap\n",
    "df=pd.get_dummies(data=df,drop_first=True)"
   ]
  },
  {
   "cell_type": "markdown",
   "metadata": {
    "papermill": {
     "duration": 0.034924,
     "end_time": "2021-01-16T11:56:35.784244",
     "exception": false,
     "start_time": "2021-01-16T11:56:35.749320",
     "status": "completed"
    },
    "tags": []
   },
   "source": [
    "### Performing Train-Test Split"
   ]
  },
  {
   "cell_type": "code",
   "execution_count": 14,
   "metadata": {
    "execution": {
     "iopub.execute_input": "2021-01-16T11:56:35.855596Z",
     "iopub.status.busy": "2021-01-16T11:56:35.854927Z",
     "iopub.status.idle": "2021-01-16T11:56:35.985590Z",
     "shell.execute_reply": "2021-01-16T11:56:35.983969Z"
    },
    "papermill": {
     "duration": 0.167251,
     "end_time": "2021-01-16T11:56:35.985737",
     "exception": false,
     "start_time": "2021-01-16T11:56:35.818486",
     "status": "completed"
    },
    "tags": []
   },
   "outputs": [],
   "source": [
    "from sklearn.model_selection import train_test_split\n",
    "y=df['Selling_Price']\n",
    "x=df.drop('Selling_Price',axis=1)"
   ]
  },
  {
   "cell_type": "code",
   "execution_count": 15,
   "metadata": {
    "execution": {
     "iopub.execute_input": "2021-01-16T11:56:36.064163Z",
     "iopub.status.busy": "2021-01-16T11:56:36.063289Z",
     "iopub.status.idle": "2021-01-16T11:56:36.068373Z",
     "shell.execute_reply": "2021-01-16T11:56:36.067761Z"
    },
    "papermill": {
     "duration": 0.048397,
     "end_time": "2021-01-16T11:56:36.068519",
     "exception": false,
     "start_time": "2021-01-16T11:56:36.020122",
     "status": "completed"
    },
    "tags": []
   },
   "outputs": [
    {
     "name": "stdout",
     "output_type": "stream",
     "text": [
      "x train:  (210, 8)\n",
      "x test:  (91, 8)\n",
      "y train:  (210,)\n",
      "y test:  (91,)\n"
     ]
    }
   ],
   "source": [
    "x_train,x_test,y_train,y_test=train_test_split(x,y,test_size=0.3)\n",
    "print(\"x train: \",x_train.shape)\n",
    "print(\"x test: \",x_test.shape)\n",
    "print(\"y train: \",y_train.shape)\n",
    "print(\"y test: \",y_test.shape)"
   ]
  },
  {
   "cell_type": "markdown",
   "metadata": {
    "papermill": {
     "duration": 0.034252,
     "end_time": "2021-01-16T11:56:36.137696",
     "exception": false,
     "start_time": "2021-01-16T11:56:36.103444",
     "status": "completed"
    },
    "tags": []
   },
   "source": [
    "## **4. Model Building**"
   ]
  },
  {
   "cell_type": "code",
   "execution_count": 16,
   "metadata": {
    "execution": {
     "iopub.execute_input": "2021-01-16T11:56:36.212258Z",
     "iopub.status.busy": "2021-01-16T11:56:36.211362Z",
     "iopub.status.idle": "2021-01-16T11:56:36.214499Z",
     "shell.execute_reply": "2021-01-16T11:56:36.213936Z"
    },
    "papermill": {
     "duration": 0.042527,
     "end_time": "2021-01-16T11:56:36.214614",
     "exception": false,
     "start_time": "2021-01-16T11:56:36.172087",
     "status": "completed"
    },
    "tags": []
   },
   "outputs": [],
   "source": [
    "from sklearn.metrics import r2_score\n",
    "from sklearn.model_selection import cross_val_score\n",
    "import pickle"
   ]
  },
  {
   "cell_type": "code",
   "execution_count": 17,
   "metadata": {
    "execution": {
     "iopub.execute_input": "2021-01-16T11:56:36.300216Z",
     "iopub.status.busy": "2021-01-16T11:56:36.299491Z",
     "iopub.status.idle": "2021-01-16T11:56:36.302830Z",
     "shell.execute_reply": "2021-01-16T11:56:36.302307Z"
    },
    "papermill": {
     "duration": 0.049441,
     "end_time": "2021-01-16T11:56:36.302964",
     "exception": false,
     "start_time": "2021-01-16T11:56:36.253523",
     "status": "completed"
    },
    "tags": []
   },
   "outputs": [],
   "source": [
    "cv=[]\n",
    "r2=[]\n",
    "def regg_model(model,model_name):\n",
    "    model.fit(x_train,y_train)\n",
    "    \n",
    "    # r2-score\n",
    "    y_pred=model.predict(x_test)\n",
    "    r2.append(r2_score(y_test,y_pred))\n",
    "    \n",
    "    # cross-val-score\n",
    "    cross_val=cross_val_score(model,x_train,y_train,cv=5)\n",
    "    cross_val_mean=cross_val.mean()\n",
    "    print('R2-Score: ',r2)\n",
    "    print('Cross-Val-Mean-Score: ',cross_val_mean)\n",
    "    \n",
    "    # dumping model in a pickle file\n",
    "    model_path='./car-models'+ model_name\n",
    "    file=open(model_path,'wb')\n",
    "    pickle.dump(model,file)"
   ]
  },
  {
   "cell_type": "markdown",
   "metadata": {
    "papermill": {
     "duration": 0.034245,
     "end_time": "2021-01-16T11:56:36.371598",
     "exception": false,
     "start_time": "2021-01-16T11:56:36.337353",
     "status": "completed"
    },
    "tags": []
   },
   "source": [
    "### 1. Linear Regression"
   ]
  },
  {
   "cell_type": "code",
   "execution_count": 18,
   "metadata": {
    "execution": {
     "iopub.execute_input": "2021-01-16T11:56:36.446099Z",
     "iopub.status.busy": "2021-01-16T11:56:36.445401Z",
     "iopub.status.idle": "2021-01-16T11:56:36.626399Z",
     "shell.execute_reply": "2021-01-16T11:56:36.627092Z"
    },
    "papermill": {
     "duration": 0.221169,
     "end_time": "2021-01-16T11:56:36.627310",
     "exception": false,
     "start_time": "2021-01-16T11:56:36.406141",
     "status": "completed"
    },
    "tags": []
   },
   "outputs": [
    {
     "name": "stdout",
     "output_type": "stream",
     "text": [
      "R2-Score:  [0.880520919448193]\n",
      "Cross-Val-Mean-Score:  0.7739359020801272\n"
     ]
    }
   ],
   "source": [
    "from sklearn.linear_model import LinearRegression\n",
    "lr=LinearRegression()\n",
    "regg_model(lr,'LinearRegeressor.pkl')"
   ]
  },
  {
   "cell_type": "code",
   "execution_count": null,
   "metadata": {
    "papermill": {
     "duration": 0.038226,
     "end_time": "2021-01-16T11:58:03.715025",
     "exception": false,
     "start_time": "2021-01-16T11:58:03.676799",
     "status": "completed"
    },
    "tags": []
   },
   "outputs": [],
   "source": []
  },
  {
   "cell_type": "code",
   "execution_count": null,
   "metadata": {},
   "outputs": [],
   "source": []
  }
 ],
 "metadata": {
  "kernelspec": {
   "display_name": "Python 3",
   "language": "python",
   "name": "python3"
  },
  "language_info": {
   "codemirror_mode": {
    "name": "ipython",
    "version": 3
   },
   "file_extension": ".py",
   "mimetype": "text/x-python",
   "name": "python",
   "nbconvert_exporter": "python",
   "pygments_lexer": "ipython3",
   "version": "3.8.8"
  },
  "papermill": {
   "duration": 98.067936,
   "end_time": "2021-01-16T11:58:03.861954",
   "environment_variables": {},
   "exception": null,
   "input_path": "__notebook__.ipynb",
   "output_path": "__notebook__.ipynb",
   "parameters": {},
   "start_time": "2021-01-16T11:56:25.794018",
   "version": "2.1.0"
  }
 },
 "nbformat": 4,
 "nbformat_minor": 4
}
